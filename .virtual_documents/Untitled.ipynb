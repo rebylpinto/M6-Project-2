


import pandas as pd
import numpy as np
import seaborn as sns
import matplotlib.pyplot as plt





df = pd.read_csv('spotify_history.csv')





df.head()





df.shape





df.dtypes





df.info()





df.describe()





df.describe(include = 'O')





#missing values
df.isna().sum()





df['reason_start'].fillna('missing')


df['reason_end'].fillna('missing')


print(df['reason_start'].value_counts(dropna=False))


print(df['reason_end'].value_counts(dropna=False))





#Creating Boxplot for outliers

top_artists = df['artist_name'].value_counts().head(30).index
filtered_df = df[df['artist_name'].isin(top_artists)]

plt.title('Compare the distubution of ms_played across artists')
sns.boxplot(x='artist_name',
            y='ms_played',
            data=filtered_df)
plt.xticks(rotation=90, ha = 'right')
plt.tight_layout()
plt.xlabel('Arstist_Name')
plt.ylabel('Ms_played')


# Creating histogram 

top_tracks = df['track_name'].value_counts().head(30).index  
filtered_df = df[df['track_name'].isin(top_tracks)]

plt.figure(figsize =(10,6))
plt.title('Compare the distubution of ms_played across Tracks')
sns.boxplot(data= filtered_df,
             x ='track_name',
             y ='ms_played')
plt.xticks(rotation=90, ha = 'right')
plt.tight_layout()
plt.xlabel('Track_Name')
plt.show()





sns.histplot(data=df, 
               x='ms_played')


sns.histplot(data=df, 
             x='ms_played', 
             hue='artist_name')


#Explore the relationship between listening time and other variables (e.g., time of day, day of the week)

 sns.scatterplot(data=df, x='hour', y='ms_played')



