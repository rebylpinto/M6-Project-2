{
 "cells": [
  {
   "cell_type": "markdown",
   "id": "361fa670-89f2-459d-851a-fd7703ded81e",
   "metadata": {},
   "source": [
    "**Importing necessary libraries into this notebook:**"
   ]
  },
  {
   "cell_type": "code",
   "execution_count": 4,
   "id": "4866635d-91cd-4009-99da-6a9caaab0531",
   "metadata": {},
   "outputs": [],
   "source": [
    "import pandas as pd\n",
    "import numpy as np\n",
    "import seaborn as sns\n",
    "import matplotlib.pyplot as plt"
   ]
  },
  {
   "cell_type": "markdown",
   "id": "e7b9766e-1220-4cad-8546-487153a33956",
   "metadata": {},
   "source": [
    "**Loading the dataset:**"
   ]
  },
  {
   "cell_type": "code",
   "execution_count": 5,
   "id": "5407f930-bb17-4468-859b-ffa17b20ac7e",
   "metadata": {},
   "outputs": [],
   "source": [
    "df = pd.read_csv('spotify_history.csv')"
   ]
  },
  {
   "cell_type": "markdown",
   "id": "cdd0c6b4-89b1-400a-92c5-df8ae2ca0fc2",
   "metadata": {},
   "source": [
    "**Displaying an overview of the datset with head() function:**"
   ]
  },
  {
   "cell_type": "code",
   "execution_count": 18,
   "id": "4d151669-e1b5-4552-96d0-4e2e509274f4",
   "metadata": {},
   "outputs": [
    {
     "data": {
      "text/html": [
       "<div>\n",
       "<style scoped>\n",
       "    .dataframe tbody tr th:only-of-type {\n",
       "        vertical-align: middle;\n",
       "    }\n",
       "\n",
       "    .dataframe tbody tr th {\n",
       "        vertical-align: top;\n",
       "    }\n",
       "\n",
       "    .dataframe thead th {\n",
       "        text-align: right;\n",
       "    }\n",
       "</style>\n",
       "<table border=\"1\" class=\"dataframe\">\n",
       "  <thead>\n",
       "    <tr style=\"text-align: right;\">\n",
       "      <th></th>\n",
       "      <th>spotify_track_uri</th>\n",
       "      <th>ts</th>\n",
       "      <th>platform</th>\n",
       "      <th>ms_played</th>\n",
       "      <th>track_name</th>\n",
       "      <th>artist_name</th>\n",
       "      <th>album_name</th>\n",
       "      <th>reason_start</th>\n",
       "      <th>reason_end</th>\n",
       "      <th>shuffle</th>\n",
       "      <th>skipped</th>\n",
       "    </tr>\n",
       "  </thead>\n",
       "  <tbody>\n",
       "    <tr>\n",
       "      <th>0</th>\n",
       "      <td>2J3n32GeLmMjwuAzyhcSNe</td>\n",
       "      <td>2013-07-08 02:44:34</td>\n",
       "      <td>web player</td>\n",
       "      <td>3185</td>\n",
       "      <td>Say It, Just Say It</td>\n",
       "      <td>The Mowgli's</td>\n",
       "      <td>Waiting For The Dawn</td>\n",
       "      <td>autoplay</td>\n",
       "      <td>clickrow</td>\n",
       "      <td>False</td>\n",
       "      <td>False</td>\n",
       "    </tr>\n",
       "    <tr>\n",
       "      <th>1</th>\n",
       "      <td>1oHxIPqJyvAYHy0PVrDU98</td>\n",
       "      <td>2013-07-08 02:45:37</td>\n",
       "      <td>web player</td>\n",
       "      <td>61865</td>\n",
       "      <td>Drinking from the Bottle (feat. Tinie Tempah)</td>\n",
       "      <td>Calvin Harris</td>\n",
       "      <td>18 Months</td>\n",
       "      <td>clickrow</td>\n",
       "      <td>clickrow</td>\n",
       "      <td>False</td>\n",
       "      <td>False</td>\n",
       "    </tr>\n",
       "    <tr>\n",
       "      <th>2</th>\n",
       "      <td>487OPlneJNni3NWC8SYqhW</td>\n",
       "      <td>2013-07-08 02:50:24</td>\n",
       "      <td>web player</td>\n",
       "      <td>285386</td>\n",
       "      <td>Born To Die</td>\n",
       "      <td>Lana Del Rey</td>\n",
       "      <td>Born To Die - The Paradise Edition</td>\n",
       "      <td>clickrow</td>\n",
       "      <td>unknown</td>\n",
       "      <td>False</td>\n",
       "      <td>False</td>\n",
       "    </tr>\n",
       "    <tr>\n",
       "      <th>3</th>\n",
       "      <td>5IyblF777jLZj1vGHG2UD3</td>\n",
       "      <td>2013-07-08 02:52:40</td>\n",
       "      <td>web player</td>\n",
       "      <td>134022</td>\n",
       "      <td>Off To The Races</td>\n",
       "      <td>Lana Del Rey</td>\n",
       "      <td>Born To Die - The Paradise Edition</td>\n",
       "      <td>trackdone</td>\n",
       "      <td>clickrow</td>\n",
       "      <td>False</td>\n",
       "      <td>False</td>\n",
       "    </tr>\n",
       "    <tr>\n",
       "      <th>4</th>\n",
       "      <td>0GgAAB0ZMllFhbNc3mAodO</td>\n",
       "      <td>2013-07-08 03:17:52</td>\n",
       "      <td>web player</td>\n",
       "      <td>0</td>\n",
       "      <td>Half Mast</td>\n",
       "      <td>Empire Of The Sun</td>\n",
       "      <td>Walking On A Dream</td>\n",
       "      <td>clickrow</td>\n",
       "      <td>nextbtn</td>\n",
       "      <td>False</td>\n",
       "      <td>False</td>\n",
       "    </tr>\n",
       "  </tbody>\n",
       "</table>\n",
       "</div>"
      ],
      "text/plain": [
       "        spotify_track_uri                   ts    platform  ms_played  \\\n",
       "0  2J3n32GeLmMjwuAzyhcSNe  2013-07-08 02:44:34  web player       3185   \n",
       "1  1oHxIPqJyvAYHy0PVrDU98  2013-07-08 02:45:37  web player      61865   \n",
       "2  487OPlneJNni3NWC8SYqhW  2013-07-08 02:50:24  web player     285386   \n",
       "3  5IyblF777jLZj1vGHG2UD3  2013-07-08 02:52:40  web player     134022   \n",
       "4  0GgAAB0ZMllFhbNc3mAodO  2013-07-08 03:17:52  web player          0   \n",
       "\n",
       "                                      track_name        artist_name  \\\n",
       "0                            Say It, Just Say It       The Mowgli's   \n",
       "1  Drinking from the Bottle (feat. Tinie Tempah)      Calvin Harris   \n",
       "2                                    Born To Die       Lana Del Rey   \n",
       "3                               Off To The Races       Lana Del Rey   \n",
       "4                                      Half Mast  Empire Of The Sun   \n",
       "\n",
       "                           album_name reason_start reason_end  shuffle  \\\n",
       "0                Waiting For The Dawn     autoplay   clickrow    False   \n",
       "1                           18 Months     clickrow   clickrow    False   \n",
       "2  Born To Die - The Paradise Edition     clickrow    unknown    False   \n",
       "3  Born To Die - The Paradise Edition    trackdone   clickrow    False   \n",
       "4                  Walking On A Dream     clickrow    nextbtn    False   \n",
       "\n",
       "   skipped  \n",
       "0    False  \n",
       "1    False  \n",
       "2    False  \n",
       "3    False  \n",
       "4    False  "
      ]
     },
     "execution_count": 18,
     "metadata": {},
     "output_type": "execute_result"
    }
   ],
   "source": [
    "df.head()"
   ]
  },
  {
   "cell_type": "markdown",
   "id": "46d150c1-9cc9-4b5d-b135-5fb484c8e05d",
   "metadata": {},
   "source": [
    "**Finding the shape of the dataset:**"
   ]
  },
  {
   "cell_type": "code",
   "execution_count": 17,
   "id": "0dcf12c0-f0d7-41b3-8870-cd82fdc8e054",
   "metadata": {},
   "outputs": [
    {
     "data": {
      "text/plain": [
       "(149860, 11)"
      ]
     },
     "execution_count": 17,
     "metadata": {},
     "output_type": "execute_result"
    }
   ],
   "source": [
    "df.shape"
   ]
  },
  {
   "cell_type": "markdown",
   "id": "85bd0a31-ef03-4c03-b472-1cb1d2b4db29",
   "metadata": {},
   "source": [
    "**Looking at the data type for each column in the dataset:**"
   ]
  },
  {
   "cell_type": "code",
   "execution_count": 19,
   "id": "91af7d77-2f0a-4040-ba3b-92abcc02a66e",
   "metadata": {},
   "outputs": [
    {
     "data": {
      "text/plain": [
       "spotify_track_uri    object\n",
       "ts                   object\n",
       "platform             object\n",
       "ms_played             int64\n",
       "track_name           object\n",
       "artist_name          object\n",
       "album_name           object\n",
       "reason_start         object\n",
       "reason_end           object\n",
       "shuffle                bool\n",
       "skipped                bool\n",
       "dtype: object"
      ]
     },
     "execution_count": 19,
     "metadata": {},
     "output_type": "execute_result"
    }
   ],
   "source": [
    "df.dtypes"
   ]
  },
  {
   "cell_type": "markdown",
   "id": "c407a667-a636-4f0d-a59f-c00c9b46e471",
   "metadata": {},
   "source": [
    "**Getting information about columns and data types:**"
   ]
  },
  {
   "cell_type": "code",
   "execution_count": 20,
   "id": "dd8cc9d2-1431-4095-914d-fec0a551549e",
   "metadata": {},
   "outputs": [
    {
     "name": "stdout",
     "output_type": "stream",
     "text": [
      "<class 'pandas.core.frame.DataFrame'>\n",
      "RangeIndex: 149860 entries, 0 to 149859\n",
      "Data columns (total 11 columns):\n",
      " #   Column             Non-Null Count   Dtype \n",
      "---  ------             --------------   ----- \n",
      " 0   spotify_track_uri  149860 non-null  object\n",
      " 1   ts                 149860 non-null  object\n",
      " 2   platform           149860 non-null  object\n",
      " 3   ms_played          149860 non-null  int64 \n",
      " 4   track_name         149860 non-null  object\n",
      " 5   artist_name        149860 non-null  object\n",
      " 6   album_name         149860 non-null  object\n",
      " 7   reason_start       149717 non-null  object\n",
      " 8   reason_end         149743 non-null  object\n",
      " 9   shuffle            149860 non-null  bool  \n",
      " 10  skipped            149860 non-null  bool  \n",
      "dtypes: bool(2), int64(1), object(8)\n",
      "memory usage: 10.6+ MB\n"
     ]
    }
   ],
   "source": [
    "df.info()"
   ]
  },
  {
   "cell_type": "markdown",
   "id": "5f675966-b56b-4702-9bbf-f8f0a73aa1a1",
   "metadata": {},
   "source": [
    "**Describing the dataset for numerical data to get the summary statistics:**"
   ]
  },
  {
   "cell_type": "code",
   "execution_count": 21,
   "id": "52b3840d-3231-42e6-82c7-0bd05ad2e506",
   "metadata": {},
   "outputs": [
    {
     "data": {
      "text/html": [
       "<div>\n",
       "<style scoped>\n",
       "    .dataframe tbody tr th:only-of-type {\n",
       "        vertical-align: middle;\n",
       "    }\n",
       "\n",
       "    .dataframe tbody tr th {\n",
       "        vertical-align: top;\n",
       "    }\n",
       "\n",
       "    .dataframe thead th {\n",
       "        text-align: right;\n",
       "    }\n",
       "</style>\n",
       "<table border=\"1\" class=\"dataframe\">\n",
       "  <thead>\n",
       "    <tr style=\"text-align: right;\">\n",
       "      <th></th>\n",
       "      <th>ms_played</th>\n",
       "    </tr>\n",
       "  </thead>\n",
       "  <tbody>\n",
       "    <tr>\n",
       "      <th>count</th>\n",
       "      <td>1.498600e+05</td>\n",
       "    </tr>\n",
       "    <tr>\n",
       "      <th>mean</th>\n",
       "      <td>1.283166e+05</td>\n",
       "    </tr>\n",
       "    <tr>\n",
       "      <th>std</th>\n",
       "      <td>1.178401e+05</td>\n",
       "    </tr>\n",
       "    <tr>\n",
       "      <th>min</th>\n",
       "      <td>0.000000e+00</td>\n",
       "    </tr>\n",
       "    <tr>\n",
       "      <th>25%</th>\n",
       "      <td>2.795000e+03</td>\n",
       "    </tr>\n",
       "    <tr>\n",
       "      <th>50%</th>\n",
       "      <td>1.388400e+05</td>\n",
       "    </tr>\n",
       "    <tr>\n",
       "      <th>75%</th>\n",
       "      <td>2.185070e+05</td>\n",
       "    </tr>\n",
       "    <tr>\n",
       "      <th>max</th>\n",
       "      <td>1.561125e+06</td>\n",
       "    </tr>\n",
       "  </tbody>\n",
       "</table>\n",
       "</div>"
      ],
      "text/plain": [
       "          ms_played\n",
       "count  1.498600e+05\n",
       "mean   1.283166e+05\n",
       "std    1.178401e+05\n",
       "min    0.000000e+00\n",
       "25%    2.795000e+03\n",
       "50%    1.388400e+05\n",
       "75%    2.185070e+05\n",
       "max    1.561125e+06"
      ]
     },
     "execution_count": 21,
     "metadata": {},
     "output_type": "execute_result"
    }
   ],
   "source": [
    "df.describe()"
   ]
  },
  {
   "cell_type": "markdown",
   "id": "150507a4-6f06-42c4-8e44-b62b663fee6e",
   "metadata": {},
   "source": [
    "**Describing the dataset for Categorical data:**"
   ]
  },
  {
   "cell_type": "code",
   "execution_count": 26,
   "id": "e6b878c4-7ceb-434f-87d4-de653e8f6979",
   "metadata": {},
   "outputs": [
    {
     "data": {
      "text/html": [
       "<div>\n",
       "<style scoped>\n",
       "    .dataframe tbody tr th:only-of-type {\n",
       "        vertical-align: middle;\n",
       "    }\n",
       "\n",
       "    .dataframe tbody tr th {\n",
       "        vertical-align: top;\n",
       "    }\n",
       "\n",
       "    .dataframe thead th {\n",
       "        text-align: right;\n",
       "    }\n",
       "</style>\n",
       "<table border=\"1\" class=\"dataframe\">\n",
       "  <thead>\n",
       "    <tr style=\"text-align: right;\">\n",
       "      <th></th>\n",
       "      <th>spotify_track_uri</th>\n",
       "      <th>ts</th>\n",
       "      <th>platform</th>\n",
       "      <th>track_name</th>\n",
       "      <th>artist_name</th>\n",
       "      <th>album_name</th>\n",
       "      <th>reason_start</th>\n",
       "      <th>reason_end</th>\n",
       "    </tr>\n",
       "  </thead>\n",
       "  <tbody>\n",
       "    <tr>\n",
       "      <th>count</th>\n",
       "      <td>149860</td>\n",
       "      <td>149860</td>\n",
       "      <td>149860</td>\n",
       "      <td>149860</td>\n",
       "      <td>149860</td>\n",
       "      <td>149860</td>\n",
       "      <td>149717</td>\n",
       "      <td>149743</td>\n",
       "    </tr>\n",
       "    <tr>\n",
       "      <th>unique</th>\n",
       "      <td>16527</td>\n",
       "      <td>140422</td>\n",
       "      <td>6</td>\n",
       "      <td>13839</td>\n",
       "      <td>4113</td>\n",
       "      <td>7948</td>\n",
       "      <td>13</td>\n",
       "      <td>15</td>\n",
       "    </tr>\n",
       "    <tr>\n",
       "      <th>top</th>\n",
       "      <td>1BLOVHYYlH4JUHQGcpt75R</td>\n",
       "      <td>2018-09-30 21:43:18</td>\n",
       "      <td>android</td>\n",
       "      <td>Ode To The Mets</td>\n",
       "      <td>The Beatles</td>\n",
       "      <td>The Beatles</td>\n",
       "      <td>trackdone</td>\n",
       "      <td>trackdone</td>\n",
       "    </tr>\n",
       "    <tr>\n",
       "      <th>freq</th>\n",
       "      <td>207</td>\n",
       "      <td>125</td>\n",
       "      <td>139821</td>\n",
       "      <td>207</td>\n",
       "      <td>13621</td>\n",
       "      <td>2063</td>\n",
       "      <td>76655</td>\n",
       "      <td>77194</td>\n",
       "    </tr>\n",
       "  </tbody>\n",
       "</table>\n",
       "</div>"
      ],
      "text/plain": [
       "             spotify_track_uri                   ts platform       track_name  \\\n",
       "count                   149860               149860   149860           149860   \n",
       "unique                   16527               140422        6            13839   \n",
       "top     1BLOVHYYlH4JUHQGcpt75R  2018-09-30 21:43:18  android  Ode To The Mets   \n",
       "freq                       207                  125   139821              207   \n",
       "\n",
       "        artist_name   album_name reason_start reason_end  \n",
       "count        149860       149860       149717     149743  \n",
       "unique         4113         7948           13         15  \n",
       "top     The Beatles  The Beatles    trackdone  trackdone  \n",
       "freq          13621         2063        76655      77194  "
      ]
     },
     "execution_count": 26,
     "metadata": {},
     "output_type": "execute_result"
    }
   ],
   "source": [
    "df.describe(include = 'O')"
   ]
  },
  {
   "cell_type": "markdown",
   "id": "ac506ffd-d551-49c9-a616-627626b8841f",
   "metadata": {},
   "source": [
    "**Finding out sum of NaN values in all the columns:**"
   ]
  },
  {
   "cell_type": "code",
   "execution_count": 27,
   "id": "66306e5a-d2d2-45b4-95a6-065b93be45ef",
   "metadata": {},
   "outputs": [
    {
     "data": {
      "text/plain": [
       "spotify_track_uri      0\n",
       "ts                     0\n",
       "platform               0\n",
       "ms_played              0\n",
       "track_name             0\n",
       "artist_name            0\n",
       "album_name             0\n",
       "reason_start         143\n",
       "reason_end           117\n",
       "shuffle                0\n",
       "skipped                0\n",
       "dtype: int64"
      ]
     },
     "execution_count": 27,
     "metadata": {},
     "output_type": "execute_result"
    }
   ],
   "source": [
    "#missing values\n",
    "df.isna().sum()"
   ]
  },
  {
   "cell_type": "code",
   "execution_count": null,
   "id": "bedaa6e1-b919-4aaf-b4d4-c6bb3a8298fb",
   "metadata": {},
   "outputs": [],
   "source": []
  },
  {
   "cell_type": "code",
   "execution_count": 28,
   "id": "176970a4-79f5-4602-8b4c-81b89d8e1294",
   "metadata": {},
   "outputs": [
    {
     "data": {
      "text/plain": [
       "0          autoplay\n",
       "1          clickrow\n",
       "2          clickrow\n",
       "3         trackdone\n",
       "4          clickrow\n",
       "            ...    \n",
       "149855       fwdbtn\n",
       "149856       fwdbtn\n",
       "149857       fwdbtn\n",
       "149858       fwdbtn\n",
       "149859       fwdbtn\n",
       "Name: reason_start, Length: 149860, dtype: object"
      ]
     },
     "execution_count": 28,
     "metadata": {},
     "output_type": "execute_result"
    }
   ],
   "source": [
    "df['reason_start'].fillna('missing')"
   ]
  },
  {
   "cell_type": "code",
   "execution_count": 29,
   "id": "271e380f-e2ca-46b5-9541-6aa7e50befc5",
   "metadata": {},
   "outputs": [
    {
     "data": {
      "text/plain": [
       "0         clickrow\n",
       "1         clickrow\n",
       "2          unknown\n",
       "3         clickrow\n",
       "4          nextbtn\n",
       "            ...   \n",
       "149855      fwdbtn\n",
       "149856      fwdbtn\n",
       "149857      fwdbtn\n",
       "149858      fwdbtn\n",
       "149859      fwdbtn\n",
       "Name: reason_end, Length: 149860, dtype: object"
      ]
     },
     "execution_count": 29,
     "metadata": {},
     "output_type": "execute_result"
    }
   ],
   "source": [
    "df['reason_end'].fillna('missing')"
   ]
  },
  {
   "cell_type": "code",
   "execution_count": 30,
   "id": "51a0bf7d-9aad-4ac8-8288-adb565aca3ce",
   "metadata": {},
   "outputs": [
    {
     "name": "stdout",
     "output_type": "stream",
     "text": [
      "reason_start\n",
      "trackdone     76655\n",
      "fwdbtn        53793\n",
      "clickrow      11228\n",
      "appload        3729\n",
      "backbtn        2205\n",
      "playbtn        1458\n",
      "remote          477\n",
      "NaN             143\n",
      "trackerror      120\n",
      "unknown          23\n",
      "nextbtn          21\n",
      "popup             5\n",
      "endplay           2\n",
      "autoplay          1\n",
      "Name: count, dtype: int64\n"
     ]
    }
   ],
   "source": [
    "print(df['reason_start'].value_counts(dropna=False))"
   ]
  },
  {
   "cell_type": "code",
   "execution_count": 31,
   "id": "b2d50e8b-bdb1-4224-8113-9e1173fdd86e",
   "metadata": {},
   "outputs": [
    {
     "name": "stdout",
     "output_type": "stream",
     "text": [
      "reason_end\n",
      "trackdone                       77194\n",
      "fwdbtn                          53470\n",
      "endplay                         10119\n",
      "logout                           4367\n",
      "backbtn                          2182\n",
      "unexpected-exit-while-paused     1725\n",
      "unknown                           268\n",
      "remote                            224\n",
      "unexpected-exit                   118\n",
      "NaN                               117\n",
      "clickrow                           34\n",
      "nextbtn                            21\n",
      "appload                             7\n",
      "popup                               6\n",
      "reload                              4\n",
      "trackerror                          4\n",
      "Name: count, dtype: int64\n"
     ]
    }
   ],
   "source": [
    "print(df['reason_end'].value_counts(dropna=False))"
   ]
  },
  {
   "cell_type": "markdown",
   "id": "f2a4e1a0-2f65-4cfc-8e4d-78754d9cbb6a",
   "metadata": {},
   "source": [
    "**Idenitfiying outliers using Boxplot:**"
   ]
  },
  {
   "cell_type": "code",
   "execution_count": 12,
   "id": "29a9486b-cbaf-4575-95bb-7359279f2a5d",
   "metadata": {},
   "outputs": [
    {
     "data": {
      "text/plain": [
       "Text(42.597222222222214, 0.5, 'Ms_played')"
      ]
     },
     "execution_count": 12,
     "metadata": {},
     "output_type": "execute_result"
    },
    {
     "data": {
      "image/png": "[encoded data removed]",
      "text/plain": [
       "<Figure size 640x480 with 1 Axes>"
      ]
     },
     "metadata": {},
     "output_type": "display_data"
    }
   ],
   "source": [
    "#Creating Boxplot for outliers\n",
    "\n",
    "top_artists = df['artist_name'].value_counts().head(30).index\n",
    "filtered_df = df[df['artist_name'].isin(top_artists)]\n",
    "\n",
    "plt.title('Compare the distubution of ms_played across artists')\n",
    "sns.boxplot(x='artist_name',\n",
    "            y='ms_played',\n",
    "            data=filtered_df)\n",
    "plt.xticks(rotation=90, ha = 'right')\n",
    "plt.tight_layout()\n",
    "plt.xlabel('Arstist_Name')\n",
    "plt.ylabel('Ms_played')"
   ]
  },
  {
   "cell_type": "code",
   "execution_count": null,
   "id": "de27d540-02cd-4dab-a9bc-48432b26c57f",
   "metadata": {},
   "outputs": [],
   "source": [
    "# Creating histogram\n",
    "\n",
    "top_tracks = df['track_name'].value_counts().head(30).index  \n",
    "filtered_df = df[df['track_name'].isin(top_tracks)]\n",
    "\n",
    "plt.figure(figsize =(10,6))\n",
    "plt.title('Compare the distubution of ms_played across Tracks')\n",
    "sns.countplot(data= filtered_df,\n",
    "             x ='track_name')\n",
    "             y ='count')\n",
    "plt.xticks(rotation=90, ha = 'right')\n",
    "plt.tight_layout()\n",
    "plt.xlabel('Track_Name')\n",
    "plt.ylabel('Count of Plays')  "
   ]
  },
  {
   "cell_type": "code",
   "execution_count": null,
   "id": "ebbb7222-4bfd-4aa1-a410-8fb583a2db7a",
   "metadata": {},
   "outputs": [],
   "source": []
  }
 ],
 "metadata": {
  "kernelspec": {
   "display_name": "Python 3 (ipykernel)",
   "language": "python",
   "name": "python3"
  },
  "language_info": {
   "codemirror_mode": {
    "name": "ipython",
    "version": 3
   },
   "file_extension": ".py",
   "mimetype": "text/x-python",
   "name": "python",
   "nbconvert_exporter": "python",
   "pygments_lexer": "ipython3",
   "version": "3.12.4"
  }
 },
 "nbformat": 4,
 "nbformat_minor": 5
}
